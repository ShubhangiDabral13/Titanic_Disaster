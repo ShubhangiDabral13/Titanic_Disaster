{
 "cells": [
  {
   "cell_type": "markdown",
   "metadata": {},
   "source": [
    "# TITANIC DISASTER\n",
    "\n",
    "* *Prelude*:\n",
    "\n",
    "    The sinking of the RMS Titanic is one of the most infamous shipwrecks in history.  On April 15, 1912, during her maiden voyage, the Titanic sank after colliding with an iceberg, killing 1502 out of 2224 passengers and crew. This sensational tragedy shocked the international community and led to better safety regulations for ships.\n",
    "\n",
    "    One of the reasons that the shipwreck led to such loss of life was that there were not enough lifeboats for the passengers and crew. Although there was some element of luck involved in surviving the sinking, some groups of people were more likely to survive than others, such as women, children, and the upper-class.\n",
    "\n",
    "\n",
    "* *About the Project*:\n",
    "\n",
    "    In this project, we will try to analyze the data of the passengers in the Titanic and try to find out what sorts of people were likely to survive.\n",
    "    In particular, we will apply the tools of machine learning to predict which passengers survived the tragedy."
   ]
  },
  {
   "cell_type": "markdown",
   "metadata": {},
   "source": [
    "## Different in dataset are given below\n",
    "\n",
    "* PassengerID =column added by kaggle to identify each row and make submission easier\n",
    "* Survived=whether the passanger survived or not and the value we are predicting(0=No,1=Yes)\n",
    "* Plcass= class of the ticket passenger purchased (1st class =1, 2nd class =2, 3rd classs= 3)\n",
    "* Sex= the passenger's sex\n",
    "* Name =name of the passenger\n",
    "* SibSp = the number of sibling or spouses passenger had aboard the titanic\n",
    "* Parch=the number of parents or childern the titianic passenger had aboard the Titanic\n",
    "* Ticket=ticket number\n",
    "* Fare=fare of the passenger paid\n",
    "* Cabin=Passenger's cabin number\n",
    "* Embarked= The port where the passenger embarked"
   ]
  },
  {
   "cell_type": "markdown",
   "metadata": {},
   "source": [
    "# 1. THE IMPORT\n",
    "## import various file\n",
    "* **Packages Imported** :-\n",
    "\n",
    "    1. numpy : for numerical computation\n",
    "    2. pandas: for data manipulation and analysis\n",
    "    3. matplotlib: plotting library\n",
    "    4. seaborn: plotting library based on matplotlib\n",
    "    5. sklearn: machine learning library"
   ]
  },
  {
   "cell_type": "code",
   "execution_count": 2,
   "metadata": {},
   "outputs": [],
   "source": [
    "import numpy as np\n",
    "import pandas as pd"
   ]
  },
  {
   "cell_type": "markdown",
   "metadata": {},
   "source": [
    "## import visual modules"
   ]
  },
  {
   "cell_type": "code",
   "execution_count": 3,
   "metadata": {},
   "outputs": [],
   "source": [
    "import seaborn as sns\n",
    "import matplotlib.pyplot as plt\n",
    "sns.set_style(\"whitegrid\")"
   ]
  },
  {
   "cell_type": "code",
   "execution_count": 4,
   "metadata": {},
   "outputs": [
    {
     "name": "stdout",
     "output_type": "stream",
     "text": [
      "Numpy version: 1.12.0\n",
      "Pandas version: 0.23.4\n",
      "Seaborn version: 0.9.0\n"
     ]
    }
   ],
   "source": [
    "## version of packages used\n",
    "print(f'Numpy version: {np.__version__}')\n",
    "print(f'Pandas version: {pd.__version__}')\n",
    "#print(f'Matplotlib version: {plt.__version__}')\n",
    "print(f'Seaborn version: {sns.__version__}')"
   ]
  },
  {
   "cell_type": "markdown",
   "metadata": {},
   "source": [
    "# 2. THE DATA\n",
    "## load the data"
   ]
  },
  {
   "cell_type": "code",
   "execution_count": 5,
   "metadata": {},
   "outputs": [],
   "source": [
    "titanic=pd.read_csv(\"train.csv\")"
   ]
  },
  {
   "cell_type": "code",
   "execution_count": 6,
   "metadata": {},
   "outputs": [
    {
     "data": {
      "text/html": [
       "<div>\n",
       "<style scoped>\n",
       "    .dataframe tbody tr th:only-of-type {\n",
       "        vertical-align: middle;\n",
       "    }\n",
       "\n",
       "    .dataframe tbody tr th {\n",
       "        vertical-align: top;\n",
       "    }\n",
       "\n",
       "    .dataframe thead th {\n",
       "        text-align: right;\n",
       "    }\n",
       "</style>\n",
       "<table border=\"1\" class=\"dataframe\">\n",
       "  <thead>\n",
       "    <tr style=\"text-align: right;\">\n",
       "      <th></th>\n",
       "      <th>PassengerId</th>\n",
       "      <th>Survived</th>\n",
       "      <th>Pclass</th>\n",
       "      <th>Name</th>\n",
       "      <th>Sex</th>\n",
       "      <th>Age</th>\n",
       "      <th>SibSp</th>\n",
       "      <th>Parch</th>\n",
       "      <th>Ticket</th>\n",
       "      <th>Fare</th>\n",
       "      <th>Cabin</th>\n",
       "      <th>Embarked</th>\n",
       "    </tr>\n",
       "  </thead>\n",
       "  <tbody>\n",
       "    <tr>\n",
       "      <th>0</th>\n",
       "      <td>1</td>\n",
       "      <td>0</td>\n",
       "      <td>3</td>\n",
       "      <td>Braund, Mr. Owen Harris</td>\n",
       "      <td>male</td>\n",
       "      <td>22.0</td>\n",
       "      <td>1</td>\n",
       "      <td>0</td>\n",
       "      <td>A/5 21171</td>\n",
       "      <td>7.2500</td>\n",
       "      <td>NaN</td>\n",
       "      <td>S</td>\n",
       "    </tr>\n",
       "    <tr>\n",
       "      <th>1</th>\n",
       "      <td>2</td>\n",
       "      <td>1</td>\n",
       "      <td>1</td>\n",
       "      <td>Cumings, Mrs. John Bradley (Florence Briggs Th...</td>\n",
       "      <td>female</td>\n",
       "      <td>38.0</td>\n",
       "      <td>1</td>\n",
       "      <td>0</td>\n",
       "      <td>PC 17599</td>\n",
       "      <td>71.2833</td>\n",
       "      <td>C85</td>\n",
       "      <td>C</td>\n",
       "    </tr>\n",
       "    <tr>\n",
       "      <th>2</th>\n",
       "      <td>3</td>\n",
       "      <td>1</td>\n",
       "      <td>3</td>\n",
       "      <td>Heikkinen, Miss. Laina</td>\n",
       "      <td>female</td>\n",
       "      <td>26.0</td>\n",
       "      <td>0</td>\n",
       "      <td>0</td>\n",
       "      <td>STON/O2. 3101282</td>\n",
       "      <td>7.9250</td>\n",
       "      <td>NaN</td>\n",
       "      <td>S</td>\n",
       "    </tr>\n",
       "    <tr>\n",
       "      <th>3</th>\n",
       "      <td>4</td>\n",
       "      <td>1</td>\n",
       "      <td>1</td>\n",
       "      <td>Futrelle, Mrs. Jacques Heath (Lily May Peel)</td>\n",
       "      <td>female</td>\n",
       "      <td>35.0</td>\n",
       "      <td>1</td>\n",
       "      <td>0</td>\n",
       "      <td>113803</td>\n",
       "      <td>53.1000</td>\n",
       "      <td>C123</td>\n",
       "      <td>S</td>\n",
       "    </tr>\n",
       "    <tr>\n",
       "      <th>4</th>\n",
       "      <td>5</td>\n",
       "      <td>0</td>\n",
       "      <td>3</td>\n",
       "      <td>Allen, Mr. William Henry</td>\n",
       "      <td>male</td>\n",
       "      <td>35.0</td>\n",
       "      <td>0</td>\n",
       "      <td>0</td>\n",
       "      <td>373450</td>\n",
       "      <td>8.0500</td>\n",
       "      <td>NaN</td>\n",
       "      <td>S</td>\n",
       "    </tr>\n",
       "  </tbody>\n",
       "</table>\n",
       "</div>"
      ],
      "text/plain": [
       "   PassengerId  Survived  Pclass  \\\n",
       "0            1         0       3   \n",
       "1            2         1       1   \n",
       "2            3         1       3   \n",
       "3            4         1       1   \n",
       "4            5         0       3   \n",
       "\n",
       "                                                Name     Sex   Age  SibSp  \\\n",
       "0                            Braund, Mr. Owen Harris    male  22.0      1   \n",
       "1  Cumings, Mrs. John Bradley (Florence Briggs Th...  female  38.0      1   \n",
       "2                             Heikkinen, Miss. Laina  female  26.0      0   \n",
       "3       Futrelle, Mrs. Jacques Heath (Lily May Peel)  female  35.0      1   \n",
       "4                           Allen, Mr. William Henry    male  35.0      0   \n",
       "\n",
       "   Parch            Ticket     Fare Cabin Embarked  \n",
       "0      0         A/5 21171   7.2500   NaN        S  \n",
       "1      0          PC 17599  71.2833   C85        C  \n",
       "2      0  STON/O2. 3101282   7.9250   NaN        S  \n",
       "3      0            113803  53.1000  C123        S  \n",
       "4      0            373450   8.0500   NaN        S  "
      ]
     },
     "execution_count": 6,
     "metadata": {},
     "output_type": "execute_result"
    }
   ],
   "source": [
    "titanic.head()"
   ]
  },
  {
   "cell_type": "code",
   "execution_count": 7,
   "metadata": {},
   "outputs": [
    {
     "name": "stdout",
     "output_type": "stream",
     "text": [
      "<class 'pandas.core.frame.DataFrame'>\n",
      "RangeIndex: 891 entries, 0 to 890\n",
      "Data columns (total 12 columns):\n",
      "PassengerId    891 non-null int64\n",
      "Survived       891 non-null int64\n",
      "Pclass         891 non-null int64\n",
      "Name           891 non-null object\n",
      "Sex            891 non-null object\n",
      "Age            714 non-null float64\n",
      "SibSp          891 non-null int64\n",
      "Parch          891 non-null int64\n",
      "Ticket         891 non-null object\n",
      "Fare           891 non-null float64\n",
      "Cabin          204 non-null object\n",
      "Embarked       889 non-null object\n",
      "dtypes: float64(2), int64(5), object(5)\n",
      "memory usage: 83.6+ KB\n"
     ]
    }
   ],
   "source": [
    "# To get the information about the data\n",
    "titanic.info()"
   ]
  },
  {
   "cell_type": "markdown",
   "metadata": {},
   "source": [
    "* **The information that we get about data through.info() is:-**\n",
    "* We get to know that the total number of entries are 891\n",
    "* There are 12 columns out of which 2 float type 4 string type and 6 int type\n",
    "    - PassengerId (int):the unique number to each 891 passengers\n",
    "    - Survived (int):whether the passenger survived the disaster or not. 0 for not survived and 1 for survived\n",
    "    - Pclass(int): is the class alotted to the passenger in titanic.1 for first class 2 for second class and 3 for thirdclass\n",
    "    - Name(string): gives the name of the passenger\n",
    "    - Sex(string): whether the passenger is male or female\n",
    "    - Age (int): the age of the passenger. contain NaN values. \n",
    "    - SibSp(int): the number of sibling or spouse that passenger have which are travelling with him/her\n",
    "    - Parch (int):the number of parent or children that passenger have which are tarvelling with him/ her\n",
    "    - Ticket(int): give the ticket number and ticket detail of that passenger\n",
    "    - Fare(float):gives the cost for that the passenger paid\n",
    "    - Cabin (string):cabin number of passenger.contain NaN values.\n",
    "    - Embarked(String): port of embarkation;C = Cherbourg, Q = Queenstown, S = Southampton; contains NaN values.   "
   ]
  },
  {
   "cell_type": "code",
   "execution_count": 8,
   "metadata": {},
   "outputs": [
    {
     "data": {
      "text/html": [
       "<div>\n",
       "<style scoped>\n",
       "    .dataframe tbody tr th:only-of-type {\n",
       "        vertical-align: middle;\n",
       "    }\n",
       "\n",
       "    .dataframe tbody tr th {\n",
       "        vertical-align: top;\n",
       "    }\n",
       "\n",
       "    .dataframe thead th {\n",
       "        text-align: right;\n",
       "    }\n",
       "</style>\n",
       "<table border=\"1\" class=\"dataframe\">\n",
       "  <thead>\n",
       "    <tr style=\"text-align: right;\">\n",
       "      <th></th>\n",
       "      <th>PassengerId</th>\n",
       "      <th>Survived</th>\n",
       "      <th>Pclass</th>\n",
       "      <th>Age</th>\n",
       "      <th>SibSp</th>\n",
       "      <th>Parch</th>\n",
       "      <th>Fare</th>\n",
       "    </tr>\n",
       "  </thead>\n",
       "  <tbody>\n",
       "    <tr>\n",
       "      <th>count</th>\n",
       "      <td>891.000000</td>\n",
       "      <td>891.000000</td>\n",
       "      <td>891.000000</td>\n",
       "      <td>714.000000</td>\n",
       "      <td>891.000000</td>\n",
       "      <td>891.000000</td>\n",
       "      <td>891.000000</td>\n",
       "    </tr>\n",
       "    <tr>\n",
       "      <th>mean</th>\n",
       "      <td>446.000000</td>\n",
       "      <td>0.383838</td>\n",
       "      <td>2.308642</td>\n",
       "      <td>29.699118</td>\n",
       "      <td>0.523008</td>\n",
       "      <td>0.381594</td>\n",
       "      <td>32.204208</td>\n",
       "    </tr>\n",
       "    <tr>\n",
       "      <th>std</th>\n",
       "      <td>257.353842</td>\n",
       "      <td>0.486592</td>\n",
       "      <td>0.836071</td>\n",
       "      <td>14.526497</td>\n",
       "      <td>1.102743</td>\n",
       "      <td>0.806057</td>\n",
       "      <td>49.693429</td>\n",
       "    </tr>\n",
       "    <tr>\n",
       "      <th>min</th>\n",
       "      <td>1.000000</td>\n",
       "      <td>0.000000</td>\n",
       "      <td>1.000000</td>\n",
       "      <td>0.420000</td>\n",
       "      <td>0.000000</td>\n",
       "      <td>0.000000</td>\n",
       "      <td>0.000000</td>\n",
       "    </tr>\n",
       "    <tr>\n",
       "      <th>25%</th>\n",
       "      <td>223.500000</td>\n",
       "      <td>0.000000</td>\n",
       "      <td>2.000000</td>\n",
       "      <td>20.125000</td>\n",
       "      <td>0.000000</td>\n",
       "      <td>0.000000</td>\n",
       "      <td>7.910400</td>\n",
       "    </tr>\n",
       "    <tr>\n",
       "      <th>50%</th>\n",
       "      <td>446.000000</td>\n",
       "      <td>0.000000</td>\n",
       "      <td>3.000000</td>\n",
       "      <td>28.000000</td>\n",
       "      <td>0.000000</td>\n",
       "      <td>0.000000</td>\n",
       "      <td>14.454200</td>\n",
       "    </tr>\n",
       "    <tr>\n",
       "      <th>75%</th>\n",
       "      <td>668.500000</td>\n",
       "      <td>1.000000</td>\n",
       "      <td>3.000000</td>\n",
       "      <td>38.000000</td>\n",
       "      <td>1.000000</td>\n",
       "      <td>0.000000</td>\n",
       "      <td>31.000000</td>\n",
       "    </tr>\n",
       "    <tr>\n",
       "      <th>max</th>\n",
       "      <td>891.000000</td>\n",
       "      <td>1.000000</td>\n",
       "      <td>3.000000</td>\n",
       "      <td>80.000000</td>\n",
       "      <td>8.000000</td>\n",
       "      <td>6.000000</td>\n",
       "      <td>512.329200</td>\n",
       "    </tr>\n",
       "  </tbody>\n",
       "</table>\n",
       "</div>"
      ],
      "text/plain": [
       "       PassengerId    Survived      Pclass         Age       SibSp  \\\n",
       "count   891.000000  891.000000  891.000000  714.000000  891.000000   \n",
       "mean    446.000000    0.383838    2.308642   29.699118    0.523008   \n",
       "std     257.353842    0.486592    0.836071   14.526497    1.102743   \n",
       "min       1.000000    0.000000    1.000000    0.420000    0.000000   \n",
       "25%     223.500000    0.000000    2.000000   20.125000    0.000000   \n",
       "50%     446.000000    0.000000    3.000000   28.000000    0.000000   \n",
       "75%     668.500000    1.000000    3.000000   38.000000    1.000000   \n",
       "max     891.000000    1.000000    3.000000   80.000000    8.000000   \n",
       "\n",
       "            Parch        Fare  \n",
       "count  891.000000  891.000000  \n",
       "mean     0.381594   32.204208  \n",
       "std      0.806057   49.693429  \n",
       "min      0.000000    0.000000  \n",
       "25%      0.000000    7.910400  \n",
       "50%      0.000000   14.454200  \n",
       "75%      0.000000   31.000000  \n",
       "max      6.000000  512.329200  "
      ]
     },
     "execution_count": 8,
     "metadata": {},
     "output_type": "execute_result"
    }
   ],
   "source": [
    "#To describe the data \n",
    "titanic.describe()"
   ]
  },
  {
   "cell_type": "markdown",
   "metadata": {},
   "source": [
    "* **Summary of Dataframe -- using describe():**\n",
    "    - PassengerId has unique value from 1 to 891.\n",
    "    - Survived has value either 0 or 1, mean is 0.38 that means we have more data about passengers who did not surived the crash.\n",
    "    - Pclass has value either 1 or 2 or 3, mean is 2.3 that means we have a lots of people in passenger class 2.\n",
    "    - Age has NaN values, min age being 0.4 and max being 80, mean is 29.6 that means we have a lot of people having age around 30.\n",
    "    - SibSp has min value of 0 and max value of 8, mean is 0.52 that means there are lot of people having no siblings or spouse aboard.\n",
    "    - Parch has min value 0 and max value 6, mean being 0.38 that means there are lot of people have no parents or children aboard.\n",
    "    - Fare has min value 0 and max value 512.32, mean being 32.20 that means avg ticket price was 32.20"
   ]
  },
  {
   "cell_type": "markdown",
   "metadata": {},
   "source": [
    " **To calculate the total number of NaN value in Age, Cabin and Embarked** "
   ]
  },
  {
   "cell_type": "code",
   "execution_count": 9,
   "metadata": {},
   "outputs": [
    {
     "data": {
      "text/plain": [
       "Age         177\n",
       "Cabin       687\n",
       "Embarked      2\n",
       "dtype: int64"
      ]
     },
     "execution_count": 9,
     "metadata": {},
     "output_type": "execute_result"
    }
   ],
   "source": [
    "list_values=[\"Age\",\"Cabin\",\"Embarked\"]\n",
    "titanic[list_values].isna().sum()"
   ]
  },
  {
   "cell_type": "markdown",
   "metadata": {},
   "source": [
    "## To fill the NaN value in the dataset\n",
    " \n",
    " We will calculate the median age of each Pclass and then fill the NaN value according to its corresponding Pclass."
   ]
  },
  {
   "cell_type": "code",
   "execution_count": 10,
   "metadata": {},
   "outputs": [
    {
     "data": {
      "text/plain": [
       "Pclass\n",
       "1    37.0\n",
       "2    29.0\n",
       "3    24.0\n",
       "Name: Age, dtype: float64"
      ]
     },
     "execution_count": 10,
     "metadata": {},
     "output_type": "execute_result"
    }
   ],
   "source": [
    "# to find the median age of each class of passenger\n",
    "titanic_pclass=titanic.groupby(\"Pclass\")\n",
    "titanic_pclass[\"Age\"].median()"
   ]
  },
  {
   "cell_type": "code",
   "execution_count": 11,
   "metadata": {},
   "outputs": [],
   "source": [
    "# to fill NaN of age column\n",
    "def age(cols):\n",
    "    pclass=cols[0]\n",
    "    age=cols[1]\n",
    "    \n",
    "    if pd.isnull(age):\n",
    "        if pclass ==1:\n",
    "            return 37.0\n",
    "        elif pclass ==2:\n",
    "            return 29.0\n",
    "        else :\n",
    "            return 24.0\n",
    "    else:\n",
    "        return age\n",
    "titanic[\"Age\"]=titanic[[\"Pclass\",\"Age\"]].apply(age,axis=1)    "
   ]
  },
  {
   "cell_type": "code",
   "execution_count": 12,
   "metadata": {},
   "outputs": [
    {
     "data": {
      "text/plain": [
       "<matplotlib.axes._subplots.AxesSubplot at 0x18cdcda4828>"
      ]
     },
     "execution_count": 12,
     "metadata": {},
     "output_type": "execute_result"
    },
    {
     "data": {
      "image/png": "[encoded data removed]",
      "text/plain": [
       "<Figure size 432x288 with 1 Axes>"
      ]
     },
     "metadata": {
      "needs_background": "light"
     },
     "output_type": "display_data"
    }
   ],
   "source": [
    "#To show the number of passengers from each embarked\n",
    "sns.countplot(x=\"Embarked\",data=titanic)"
   ]
  },
  {
   "cell_type": "markdown",
   "metadata": {},
   "source": [
    "The maxium number of passenger are from the Embarked S"
   ]
  },
  {
   "cell_type": "markdown",
   "metadata": {},
   "source": [
    "## To fill NaN value in embarked column"
   ]
  },
  {
   "cell_type": "markdown",
   "metadata": {},
   "source": [
    "In the above plot we have seen that the maximum count is from the S embarked hence we will fill the NaN with the S alphabet"
   ]
  },
  {
   "cell_type": "code",
   "execution_count": 13,
   "metadata": {},
   "outputs": [],
   "source": [
    "titanic[\"Embarked\"]=titanic[\"Embarked\"].fillna(\"S\")"
   ]
  },
  {
   "cell_type": "code",
   "execution_count": 14,
   "metadata": {},
   "outputs": [
    {
     "data": {
      "text/html": [
       "<div>\n",
       "<style scoped>\n",
       "    .dataframe tbody tr th:only-of-type {\n",
       "        vertical-align: middle;\n",
       "    }\n",
       "\n",
       "    .dataframe tbody tr th {\n",
       "        vertical-align: top;\n",
       "    }\n",
       "\n",
       "    .dataframe thead th {\n",
       "        text-align: right;\n",
       "    }\n",
       "</style>\n",
       "<table border=\"1\" class=\"dataframe\">\n",
       "  <thead>\n",
       "    <tr style=\"text-align: right;\">\n",
       "      <th></th>\n",
       "      <th>PassengerId</th>\n",
       "      <th>Survived</th>\n",
       "      <th>Pclass</th>\n",
       "      <th>Age</th>\n",
       "      <th>SibSp</th>\n",
       "      <th>Parch</th>\n",
       "      <th>Fare</th>\n",
       "    </tr>\n",
       "    <tr>\n",
       "      <th>Embarked</th>\n",
       "      <th></th>\n",
       "      <th></th>\n",
       "      <th></th>\n",
       "      <th></th>\n",
       "      <th></th>\n",
       "      <th></th>\n",
       "      <th></th>\n",
       "    </tr>\n",
       "  </thead>\n",
       "  <tbody>\n",
       "    <tr>\n",
       "      <th>C</th>\n",
       "      <td>74820</td>\n",
       "      <td>93</td>\n",
       "      <td>317</td>\n",
       "      <td>5070.92</td>\n",
       "      <td>65</td>\n",
       "      <td>61</td>\n",
       "      <td>10072.2962</td>\n",
       "    </tr>\n",
       "    <tr>\n",
       "      <th>Q</th>\n",
       "      <td>32178</td>\n",
       "      <td>30</td>\n",
       "      <td>224</td>\n",
       "      <td>1967.50</td>\n",
       "      <td>33</td>\n",
       "      <td>13</td>\n",
       "      <td>1022.2543</td>\n",
       "    </tr>\n",
       "    <tr>\n",
       "      <th>S</th>\n",
       "      <td>290388</td>\n",
       "      <td>219</td>\n",
       "      <td>1516</td>\n",
       "      <td>18859.75</td>\n",
       "      <td>368</td>\n",
       "      <td>266</td>\n",
       "      <td>17599.3988</td>\n",
       "    </tr>\n",
       "  </tbody>\n",
       "</table>\n",
       "</div>"
      ],
      "text/plain": [
       "          PassengerId  Survived  Pclass       Age  SibSp  Parch        Fare\n",
       "Embarked                                                                   \n",
       "C               74820        93     317   5070.92     65     61  10072.2962\n",
       "Q               32178        30     224   1967.50     33     13   1022.2543\n",
       "S              290388       219    1516  18859.75    368    266  17599.3988"
      ]
     },
     "execution_count": 14,
     "metadata": {},
     "output_type": "execute_result"
    }
   ],
   "source": [
    "#To calculate the total fare collected from each Embarked\n",
    "titanic_embarked=titanic.groupby(\"Embarked\")\n",
    "titanic_embarked.sum()"
   ]
  },
  {
   "cell_type": "markdown",
   "metadata": {},
   "source": [
    "Hence the maximum fare is being collected from the S cause we already know that maximum people where from S hence this further prove our point"
   ]
  },
  {
   "cell_type": "markdown",
   "metadata": {},
   "source": [
    "Now we will again use info() to make sure that there is no more NaN value left "
   ]
  },
  {
   "cell_type": "code",
   "execution_count": 15,
   "metadata": {},
   "outputs": [
    {
     "name": "stdout",
     "output_type": "stream",
     "text": [
      "<class 'pandas.core.frame.DataFrame'>\n",
      "RangeIndex: 891 entries, 0 to 890\n",
      "Data columns (total 12 columns):\n",
      "PassengerId    891 non-null int64\n",
      "Survived       891 non-null int64\n",
      "Pclass         891 non-null int64\n",
      "Name           891 non-null object\n",
      "Sex            891 non-null object\n",
      "Age            891 non-null float64\n",
      "SibSp          891 non-null int64\n",
      "Parch          891 non-null int64\n",
      "Ticket         891 non-null object\n",
      "Fare           891 non-null float64\n",
      "Cabin          204 non-null object\n",
      "Embarked       891 non-null object\n",
      "dtypes: float64(2), int64(5), object(5)\n",
      "memory usage: 83.6+ KB\n"
     ]
    }
   ],
   "source": [
    "titanic.info()"
   ]
  },
  {
   "cell_type": "markdown",
   "metadata": {},
   "source": [
    "# 3 (EDA)Exploratory data analysis\n",
    "## Data Analysis and Visualisation"
   ]
  },
  {
   "cell_type": "code",
   "execution_count": 16,
   "metadata": {},
   "outputs": [
    {
     "name": "stdout",
     "output_type": "stream",
     "text": [
      "The total number of survival are 342\n"
     ]
    }
   ],
   "source": [
    "# To calculate total number of survival\n",
    "survival=titanic[titanic[\"Survived\"]==1][\"Survived\"].count()\n",
    "print(\"The total number of survival are\",survival)"
   ]
  },
  {
   "cell_type": "code",
   "execution_count": 17,
   "metadata": {},
   "outputs": [
    {
     "name": "stdout",
     "output_type": "stream",
     "text": [
      "the total number of female survival 233\n",
      "the total number of male survival 109\n"
     ]
    }
   ],
   "source": [
    "# To calculate total number of female and male survival\n",
    "female_survival=titanic[(titanic[\"Survived\"]==1) &( titanic[\"Sex\"]==\"female\")][\"Survived\"].count()\n",
    "print(\"the total number of female survival\",female_survival)\n",
    "#Total number of male survival\n",
    "male_survival=titanic[(titanic[\"Survived\"]==1) &( titanic[\"Sex\"]==\"male\")][\"Survived\"].count()\n",
    "print(\"the total number of male survival\",male_survival)"
   ]
  },
  {
   "cell_type": "code",
   "execution_count": 18,
   "metadata": {},
   "outputs": [
    {
     "name": "stdout",
     "output_type": "stream",
     "text": [
      "THE OLDEST SURVIVAL 80.0\n",
      "THE YOUNGEST SURVIVAL 0.42\n",
      "THE OLDEST DIED 74.0\n",
      "THE YOUNGEST DIED 1.0\n"
     ]
    }
   ],
   "source": [
    "# To calcluate the oldest surivial\n",
    "old_survival=titanic[titanic[\"Survived\"]==1][\"Age\"].max()\n",
    "print(\"THE OLDEST SURVIVAL\",old_survival)\n",
    "# To calcluate the youngest surivial\n",
    "youngest_survival=titanic[titanic[\"Survived\"]==1][\"Age\"].min()\n",
    "print(\"THE YOUNGEST SURVIVAL\",youngest_survival)\n",
    "# To calcluate the oldest person died\n",
    "old_died=titanic[titanic[\"Survived\"]==0][\"Age\"].max()\n",
    "print(\"THE OLDEST DIED\",old_died)\n",
    "# To calcluate the youngest died\n",
    "youngest_died=titanic[titanic[\"Survived\"]==0][\"Age\"].min()\n",
    "print(\"THE YOUNGEST DIED\",youngest_died)"
   ]
  },
  {
   "cell_type": "code",
   "execution_count": 19,
   "metadata": {},
   "outputs": [
    {
     "name": "stdout",
     "output_type": "stream",
     "text": [
      "Total number of child passenger  64\n",
      "Total number of teen passenger  139\n",
      "Total number of youth passenger  556\n",
      "Total number of adult passenger  788\n",
      "Total number of elder passenger  103\n"
     ]
    },
    {
     "data": {
      "text/plain": [
       "<matplotlib.axes._subplots.AxesSubplot at 0x18cdd271588>"
      ]
     },
     "execution_count": 19,
     "metadata": {},
     "output_type": "execute_result"
    },
    {
     "data": {
      "image/png": "[encoded data removed]",
      "text/plain": [
       "<Figure size 576x360 with 1 Axes>"
      ]
     },
     "metadata": {
      "needs_background": "light"
     },
     "output_type": "display_data"
    }
   ],
   "source": [
    "#To calcultate total number of  according to their age\n",
    "titanic_child_passenger=titanic[titanic[\"Age\"]<=10].count()\n",
    "titanic_teen_passenger=titanic[ titanic[\"Age\"]<=18].count()\n",
    "titanic_youth_passenger=titanic[titanic[\"Age\"]<=30].count()\n",
    "titanic_adult_passenger=titanic[titanic[\"Age\"]<=45].count()\n",
    "titanic_elder_passenger=titanic[titanic[\"Age\"]>45].count()\n",
    "print(\"Total number of child passenger \",titanic_child_passenger[\"PassengerId\"])\n",
    "print(\"Total number of teen passenger \",titanic_teen_passenger[\"PassengerId\"])\n",
    "print(\"Total number of youth passenger \",titanic_youth_passenger[\"PassengerId\"])\n",
    "print(\"Total number of adult passenger \",titanic_adult_passenger[\"PassengerId\"])\n",
    "print(\"Total number of elder passenger \",titanic_elder_passenger[\"PassengerId\"])\n",
    "plt.figure(figsize=(8,5))\n",
    "num1,num2,num3,num4,num5=titanic_child_passenger[\"PassengerId\"],titanic_teen_passenger[\"PassengerId\"],titanic_youth_passenger[\"PassengerId\"],titanic_adult_passenger[\"PassengerId\"],titanic_elder_passenger[\"PassengerId\"]\n",
    "passenger=pd.DataFrame({\"PASSENGER_NUMBER\" :[num1,num2,num3,num4,num5],\"CATEGORY\":[\"child\",\"teen\",\"youth\",\"adult\",\"elder\"]},columns=[\"PASSENGER_NUMBER\",\"CATEGORY\"])\n",
    "sns.barplot(x=\"CATEGORY\",y=\"PASSENGER_NUMBER\",data=passenger,palette=\"Set1\")"
   ]
  },
  {
   "cell_type": "markdown",
   "metadata": {},
   "source": [
    "This show that the maximum passenger were adult and then youth"
   ]
  },
  {
   "cell_type": "code",
   "execution_count": 20,
   "metadata": {},
   "outputs": [
    {
     "name": "stdout",
     "output_type": "stream",
     "text": [
      "Total number of child passenger survived 38\n",
      "Total number of teen passenger survived 70\n",
      "Total number of youth passenger survived 204\n",
      "Total number of adult passenger survived 304\n",
      "Total number of elder passenger survived 38\n"
     ]
    },
    {
     "data": {
      "text/plain": [
       "<matplotlib.axes._subplots.AxesSubplot at 0x18cdd309a20>"
      ]
     },
     "execution_count": 20,
     "metadata": {},
     "output_type": "execute_result"
    },
    {
     "data": {
      "image/png": "[encoded data removed]",
      "text/plain": [
       "<Figure size 576x360 with 1 Axes>"
      ]
     },
     "metadata": {
      "needs_background": "light"
     },
     "output_type": "display_data"
    }
   ],
   "source": [
    "#To calcultate total number of passenger survival according to their age\n",
    "titanic_child_survived=titanic[(titanic[\"Age\"]<=10) & (titanic[\"Survived\"]==1)].count()\n",
    "titanic_teen_survived=titanic[( titanic[\"Age\"]<=18) & (titanic[\"Survived\"]==1)].count()\n",
    "titanic_youth_survived=titanic[(titanic[\"Age\"]<=30) & (titanic[\"Survived\"]==1)].count()\n",
    "titanic_adult_survived=titanic[(titanic[\"Age\"]<=45) & (titanic[\"Survived\"]==1)].count()\n",
    "titanic_elder_survived=titanic[(titanic[\"Age\"]>45) & (titanic[\"Survived\"]==1)].count()\n",
    "print(\"Total number of child passenger survived\",titanic_child_survived[\"PassengerId\"])\n",
    "print(\"Total number of teen passenger survived\",titanic_teen_survived[\"PassengerId\"])\n",
    "print(\"Total number of youth passenger survived\",titanic_youth_survived[\"PassengerId\"])\n",
    "print(\"Total number of adult passenger survived\",titanic_adult_survived[\"PassengerId\"])\n",
    "print(\"Total number of elder passenger survived\",titanic_elder_survived[\"PassengerId\"])\n",
    "plt.figure(figsize=(8,5))\n",
    "num1,num2,num3,num4,num5=titanic_child_survived[\"PassengerId\"],titanic_teen_survived[\"PassengerId\"],titanic_youth_survived[\"PassengerId\"],titanic_adult_survived[\"PassengerId\"],titanic_elder_survived[\"PassengerId\"]\n",
    "passenger=pd.DataFrame({\"PASSENGER_SURVIVAL_NUMBER\" :[num1,num2,num3,num4,num5],\"CATEGORY\":[\"child\",\"teen\",\"youth\",\"adult\",\"elder\"]},columns=[\"PASSENGER_SURVIVAL_NUMBER\",\"CATEGORY\"])\n",
    "sns.barplot(x=\"CATEGORY\",y=\"PASSENGER_SURVIVAL_NUMBER\",data=passenger,palette=\"Set1\")"
   ]
  },
  {
   "cell_type": "markdown",
   "metadata": {},
   "source": [
    "Hence, the above graph show that the number of maxium were survival were adult and child elder were of same number\n"
   ]
  },
  {
   "cell_type": "code",
   "execution_count": 21,
   "metadata": {},
   "outputs": [
    {
     "data": {
      "text/plain": [
       "array([' Mr', ' Mrs', ' Miss', ' Master', ' Don', ' Rev', ' Dr', ' Mme',\n",
       "       ' Ms', ' Major', ' Lady', ' Sir', ' Mlle', ' Col', ' Capt',\n",
       "       ' the Countess', ' Jonkheer'], dtype=object)"
      ]
     },
     "execution_count": 21,
     "metadata": {},
     "output_type": "execute_result"
    }
   ],
   "source": [
    "#TO find the titleof the name\n",
    "titanic[\"title\"]=titanic[\"Name\"].apply(lambda Name:Name.split(\",\")[1])\n",
    "titanic[\"title\"]=titanic[\"title\"].apply(lambda Name:Name.split(\".\")[0])\n",
    "titanic[\"title\"].unique()"
   ]
  },
  {
   "cell_type": "code",
   "execution_count": 22,
   "metadata": {},
   "outputs": [
    {
     "data": {
      "text/plain": [
       " Mr              517\n",
       " Miss            182\n",
       " Mrs             125\n",
       " Master           40\n",
       " Dr                7\n",
       " Rev               6\n",
       " Col               2\n",
       " Major             2\n",
       " Mlle              2\n",
       " Don               1\n",
       " Capt              1\n",
       " Jonkheer          1\n",
       " Sir               1\n",
       " Lady              1\n",
       " Ms                1\n",
       " Mme               1\n",
       " the Countess      1\n",
       "Name: title, dtype: int64"
      ]
     },
     "execution_count": 22,
     "metadata": {},
     "output_type": "execute_result"
    }
   ],
   "source": [
    "titanic[\"title\"].value_counts()"
   ]
  },
  {
   "cell_type": "code",
   "execution_count": 23,
   "metadata": {},
   "outputs": [
    {
     "name": "stdout",
     "output_type": "stream",
     "text": [
      "0    549\n",
      "1    342\n",
      "Name: Survived, dtype: int64\n"
     ]
    },
    {
     "data": {
      "text/plain": [
       "<matplotlib.axes._subplots.AxesSubplot at 0x18cdcd98e10>"
      ]
     },
     "execution_count": 23,
     "metadata": {},
     "output_type": "execute_result"
    },
    {
     "data": {
      "image/png": "[encoded data removed]",
      "text/plain": [
       "<Figure size 432x288 with 1 Axes>"
      ]
     },
     "metadata": {
      "needs_background": "light"
     },
     "output_type": "display_data"
    }
   ],
   "source": [
    "# To count the total number of passenger who survived\n",
    "print(titanic[\"Survived\"].value_counts())\n",
    "\n",
    "#to visualize the data\n",
    "sns.countplot(\"Survived\",data=titanic)"
   ]
  },
  {
   "cell_type": "markdown",
   "metadata": {},
   "source": [
    "The above graph show that the number of that did not survived are around 590 and those who survived are arounf 350"
   ]
  },
  {
   "cell_type": "code",
   "execution_count": 24,
   "metadata": {},
   "outputs": [
    {
     "data": {
      "text/plain": [
       "Pclass\n",
       "1    18177.4125\n",
       "2     3801.8417\n",
       "3     6714.6951\n",
       "Name: Fare, dtype: float64"
      ]
     },
     "execution_count": 24,
     "metadata": {},
     "output_type": "execute_result"
    }
   ],
   "source": [
    "# To calculate the total fare collected from each Class\n",
    "titanic_pclass=titanic.groupby(\"Pclass\")\n",
    "titanic_pclass[\"Fare\"].sum()"
   ]
  },
  {
   "cell_type": "markdown",
   "metadata": {},
   "source": [
    "This show that maximum fare is being collected from first class people"
   ]
  },
  {
   "cell_type": "code",
   "execution_count": 25,
   "metadata": {},
   "outputs": [
    {
     "name": "stdout",
     "output_type": "stream",
     "text": [
      "the total number of passenger without any family members 537\n"
     ]
    }
   ],
   "source": [
    "# TO calculate the total number of passenger without any family members\n",
    "titanic_alone=titanic[(titanic[\"SibSp\"]==0) & (titanic[\"Parch\"]==0)].count()\n",
    "print(\"the total number of passenger without any family members\",titanic_alone[\"PassengerId\"])"
   ]
  },
  {
   "cell_type": "code",
   "execution_count": 26,
   "metadata": {},
   "outputs": [
    {
     "name": "stdout",
     "output_type": "stream",
     "text": [
      "\n"
     ]
    },
    {
     "data": {
      "text/plain": [
       "<matplotlib.axes._subplots.AxesSubplot at 0x18cdd3ab9e8>"
      ]
     },
     "execution_count": 26,
     "metadata": {},
     "output_type": "execute_result"
    },
    {
     "data": {
      "image/png": "[encoded data removed]",
      "text/plain": [
       "<Figure size 432x288 with 1 Axes>"
      ]
     },
     "metadata": {
      "needs_background": "light"
     },
     "output_type": "display_data"
    }
   ],
   "source": [
    "titanic_alone=titanic[(titanic[\"SibSp\"]==0) & (titanic[\"Parch\"]==0)]\n",
    "print()\n",
    "sns.countplot(x=\"Embarked\",data=titanic_alone)"
   ]
  },
  {
   "cell_type": "markdown",
   "metadata": {},
   "source": [
    "The above graph show that most of the passenger that travelled alone were from S"
   ]
  },
  {
   "cell_type": "code",
   "execution_count": 27,
   "metadata": {},
   "outputs": [
    {
     "name": "stdout",
     "output_type": "stream",
     "text": [
      "The number of passengers that travelled with the family are  354\n"
     ]
    }
   ],
   "source": [
    "# TO find the passengers that travelled with their family\n",
    "titanic_not_alone=titanic[(titanic[\"SibSp\"]!=0) | (titanic[\"Parch\"]!=0)].count()\n",
    "#sns.countplot(x=\"Embarked\",data=titanic_alone)\n",
    "print(\"The number of passengers that travelled with the family are \",titanic_not_alone[\"PassengerId\"])"
   ]
  },
  {
   "cell_type": "markdown",
   "metadata": {},
   "source": [
    "The from above data we get that passenger that travelled alone were 537 and that travelled with their family were 354 thus total on adding give 891 which show that our analysis about data is right cause in dataset there are total 891 passenger"
   ]
  },
  {
   "cell_type": "code",
   "execution_count": 28,
   "metadata": {},
   "outputs": [
    {
     "name": "stdout",
     "output_type": "stream",
     "text": [
      "The total number of passenger with one family member 161\n",
      "The total number of passenger with two family member 102\n",
      "The total number of passenger with three family member 29\n",
      "The total number of passenger with four family member 15\n",
      "The total number of passenger with five family member 22\n",
      "The total number of passenger with six family member 12\n",
      "The total number of passenger with seven family member  6\n",
      "The total number of passenger with eight family member 0\n"
     ]
    },
    {
     "data": {
      "text/plain": [
       "<matplotlib.axes._subplots.AxesSubplot at 0x18cdd808c50>"
      ]
     },
     "execution_count": 28,
     "metadata": {},
     "output_type": "execute_result"
    },
    {
     "data": {
      "image/png": "[encoded data removed]",
      "text/plain": [
       "<Figure size 1152x432 with 1 Axes>"
      ]
     },
     "metadata": {
      "needs_background": "light"
     },
     "output_type": "display_data"
    }
   ],
   "source": [
    "# TO calculate total passneger that travelled with 1 family member\n",
    "titanic_pas_1=titanic[(titanic[\"SibSp\"] +titanic[\"Parch\"]==1)].count()\n",
    "#TO calculate total passenger that travelled with 2 family member\n",
    "titanic_pas_2=titanic[(titanic[\"SibSp\"] +titanic[\"Parch\"]==2)].count()\n",
    "# TO calculate total passneger that travelled with 3 family member\n",
    "titanic_pas_3=titanic[(titanic[\"SibSp\"] +titanic[\"Parch\"]==3)].count()\n",
    "#TO calculate total passenger that travelled with 4 family member\n",
    "titanic_pas_4=titanic[(titanic[\"SibSp\"] +titanic[\"Parch\"]==4)].count()\n",
    "# TO calculate total passneger that travelled with 5 family member\n",
    "titanic_pas_5=titanic[(titanic[\"SibSp\"] +titanic[\"Parch\"]==5)].count()\n",
    "#TO calculate total passenger that travelled with 6 family member\n",
    "titanic_pas_6=titanic[(titanic[\"SibSp\"] +titanic[\"Parch\"]==6)].count()\n",
    "# TO calculate total passneger that travelled with 7 family member\n",
    "titanic_pas_7=titanic[(titanic[\"SibSp\"] +titanic[\"Parch\"]==7)].count()\n",
    "#TO calculate total passenger that travelled with 8 family member\n",
    "titanic_pas_8=titanic[(titanic[\"SibSp\"] +titanic[\"Parch\"]==9)].count() \n",
    "print(\"The total number of passenger with one family member\",titanic_pas_1[\"PassengerId\"])\n",
    "print(\"The total number of passenger with two family member\",titanic_pas_2[\"PassengerId\"])\n",
    "print(\"The total number of passenger with three family member\",titanic_pas_3[\"PassengerId\"])\n",
    "print(\"The total number of passenger with four family member\",titanic_pas_4[\"PassengerId\"])\n",
    "print(\"The total number of passenger with five family member\",titanic_pas_5[\"PassengerId\"])\n",
    "print(\"The total number of passenger with six family member\",titanic_pas_6[\"PassengerId\"])\n",
    "print(\"The total number of passenger with seven family member \",titanic_pas_7[\"PassengerId\"])\n",
    "print(\"The total number of passenger with eight family member\",titanic_pas_8[\"PassengerId\"])\n",
    "plt.figure(figsize=(16,6))\n",
    "num1,num2,num3,num4,num5,num6,num7,num8=titanic_pas_1[\"PassengerId\"],titanic_pas_2[\"PassengerId\"],titanic_pas_3[\"PassengerId\"],titanic_pas_4[\"PassengerId\"],titanic_pas_5[\"PassengerId\"],titanic_pas_6[\"PassengerId\"],titanic_pas_7[\"PassengerId\"],titanic_pas_8[\"PassengerId\"]\n",
    "passenger=pd.DataFrame({\"NUMBER\" :[num1,num2,num3,num4,num5,num6,num7,num8],\"CATEGORY\":[\"1 FAMILY MEMBER\",\"2 FAMILY MEMBER\",\"3 FAMILY MEMBER\",\"4 FAMILY MEMBER\",\"5 FAMILY MEMBER\",\"6 FAMILY MEMBER\",\"7 FAMILTY MEMBER\",\"8 FAMILY MEMBER\"]},columns=[\"NUMBER\",\"CATEGORY\"])\n",
    "sns.barplot(x=\"CATEGORY\",y=\"NUMBER\",data=passenger)\n"
   ]
  },
  {
   "cell_type": "code",
   "execution_count": 28,
   "metadata": {},
   "outputs": [
    {
     "data": {
      "text/plain": [
       "<matplotlib.axes._subplots.AxesSubplot at 0x26bc46706d8>"
      ]
     },
     "execution_count": 28,
     "metadata": {},
     "output_type": "execute_result"
    },
    {
     "data": {
      "image/png": "[encoded data removed]",
      "text/plain": [
       "<Figure size 432x288 with 1 Axes>"
      ]
     },
     "metadata": {
      "needs_background": "light"
     },
     "output_type": "display_data"
    }
   ],
   "source": [
    "# TO show various sex survival in the titanic\n",
    "sns.barplot(x=\"Sex\",y=\"Survived\",data=titanic)            "
   ]
  },
  {
   "cell_type": "markdown",
   "metadata": {},
   "source": [
    "The above barplot show that the total number of survival were female"
   ]
  },
  {
   "cell_type": "code",
   "execution_count": 29,
   "metadata": {},
   "outputs": [
    {
     "data": {
      "text/plain": [
       "<matplotlib.axes._subplots.AxesSubplot at 0x26bc4b9c6d8>"
      ]
     },
     "execution_count": 29,
     "metadata": {},
     "output_type": "execute_result"
    },
    {
     "data": {
      "image/png": "[encoded data removed]",
      "text/plain": [
       "<Figure size 432x288 with 1 Axes>"
      ]
     },
     "metadata": {
      "needs_background": "light"
     },
     "output_type": "display_data"
    }
   ],
   "source": [
    "# To show various class survival in the titanic\n",
    "sns.barplot(x=\"Pclass\",y=\"Survived\",hue=\"Sex\",data=titanic,palette=\"viridis\")"
   ]
  },
  {
   "cell_type": "markdown",
   "metadata": {},
   "source": [
    "The above graph show the maxium number of survival are female from class1 and least from class 2"
   ]
  },
  {
   "cell_type": "markdown",
   "metadata": {},
   "source": [
    "# Feature selection "
   ]
  },
  {
   "cell_type": "code",
   "execution_count": 30,
   "metadata": {},
   "outputs": [
    {
     "data": {
      "image/png": "[encoded data removed]",
      "text/plain": [
       "<Figure size 720x720 with 2 Axes>"
      ]
     },
     "metadata": {
      "needs_background": "light"
     },
     "output_type": "display_data"
    }
   ],
   "source": [
    "\n",
    "#get correlations of each features in dataset\n",
    "corrmat = titanic.corr()\n",
    "top_corr_features = corrmat.index\n",
    "plt.figure(figsize=(10,10))\n",
    "#plot heat map\n",
    "g=sns.heatmap(titanic[top_corr_features].corr(),annot=True,cmap=\"RdYlGn\")\n"
   ]
  },
  {
   "cell_type": "markdown",
   "metadata": {},
   "source": [
    "## Removing unwanted column"
   ]
  },
  {
   "cell_type": "code",
   "execution_count": 31,
   "metadata": {},
   "outputs": [
    {
     "data": {
      "text/html": [
       "<div>\n",
       "<style scoped>\n",
       "    .dataframe tbody tr th:only-of-type {\n",
       "        vertical-align: middle;\n",
       "    }\n",
       "\n",
       "    .dataframe tbody tr th {\n",
       "        vertical-align: top;\n",
       "    }\n",
       "\n",
       "    .dataframe thead th {\n",
       "        text-align: right;\n",
       "    }\n",
       "</style>\n",
       "<table border=\"1\" class=\"dataframe\">\n",
       "  <thead>\n",
       "    <tr style=\"text-align: right;\">\n",
       "      <th></th>\n",
       "      <th>Survived</th>\n",
       "      <th>Pclass</th>\n",
       "      <th>Sex</th>\n",
       "      <th>Age</th>\n",
       "      <th>SibSp</th>\n",
       "      <th>Parch</th>\n",
       "      <th>Fare</th>\n",
       "      <th>Embarked</th>\n",
       "      <th>title</th>\n",
       "    </tr>\n",
       "  </thead>\n",
       "  <tbody>\n",
       "    <tr>\n",
       "      <th>0</th>\n",
       "      <td>0</td>\n",
       "      <td>3</td>\n",
       "      <td>male</td>\n",
       "      <td>22.0</td>\n",
       "      <td>1</td>\n",
       "      <td>0</td>\n",
       "      <td>7.2500</td>\n",
       "      <td>S</td>\n",
       "      <td>Mr</td>\n",
       "    </tr>\n",
       "    <tr>\n",
       "      <th>1</th>\n",
       "      <td>1</td>\n",
       "      <td>1</td>\n",
       "      <td>female</td>\n",
       "      <td>38.0</td>\n",
       "      <td>1</td>\n",
       "      <td>0</td>\n",
       "      <td>71.2833</td>\n",
       "      <td>C</td>\n",
       "      <td>Mrs</td>\n",
       "    </tr>\n",
       "    <tr>\n",
       "      <th>2</th>\n",
       "      <td>1</td>\n",
       "      <td>3</td>\n",
       "      <td>female</td>\n",
       "      <td>26.0</td>\n",
       "      <td>0</td>\n",
       "      <td>0</td>\n",
       "      <td>7.9250</td>\n",
       "      <td>S</td>\n",
       "      <td>Miss</td>\n",
       "    </tr>\n",
       "    <tr>\n",
       "      <th>3</th>\n",
       "      <td>1</td>\n",
       "      <td>1</td>\n",
       "      <td>female</td>\n",
       "      <td>35.0</td>\n",
       "      <td>1</td>\n",
       "      <td>0</td>\n",
       "      <td>53.1000</td>\n",
       "      <td>S</td>\n",
       "      <td>Mrs</td>\n",
       "    </tr>\n",
       "    <tr>\n",
       "      <th>4</th>\n",
       "      <td>0</td>\n",
       "      <td>3</td>\n",
       "      <td>male</td>\n",
       "      <td>35.0</td>\n",
       "      <td>0</td>\n",
       "      <td>0</td>\n",
       "      <td>8.0500</td>\n",
       "      <td>S</td>\n",
       "      <td>Mr</td>\n",
       "    </tr>\n",
       "  </tbody>\n",
       "</table>\n",
       "</div>"
      ],
      "text/plain": [
       "   Survived  Pclass     Sex   Age  SibSp  Parch     Fare Embarked  title\n",
       "0         0       3    male  22.0      1      0   7.2500        S     Mr\n",
       "1         1       1  female  38.0      1      0  71.2833        C    Mrs\n",
       "2         1       3  female  26.0      0      0   7.9250        S   Miss\n",
       "3         1       1  female  35.0      1      0  53.1000        S    Mrs\n",
       "4         0       3    male  35.0      0      0   8.0500        S     Mr"
      ]
     },
     "execution_count": 31,
     "metadata": {},
     "output_type": "execute_result"
    }
   ],
   "source": [
    "# remove the passenger id,cabin,ticket\n",
    "titanic=titanic.drop([\"PassengerId\",\"Name\",\"Cabin\",\"Ticket\"],axis=1)\n",
    "titanic.head()"
   ]
  },
  {
   "cell_type": "code",
   "execution_count": 32,
   "metadata": {},
   "outputs": [],
   "source": [
    "# To add one more feature as family member\n",
    "#titanic[\"family_members\"]=titanic[\"SibSp\"]+titanic[\"Parch\"]+1"
   ]
  },
  {
   "cell_type": "code",
   "execution_count": 33,
   "metadata": {},
   "outputs": [],
   "source": [
    "# to convert male to 0 and female to 1\n",
    "def sex(cols):\n",
    "    if cols==\"male\":\n",
    "        return 0\n",
    "    else:\n",
    "        return 1\n",
    "titanic[\"Sex\"]=titanic[\"Sex\"].apply(sex)    "
   ]
  },
  {
   "cell_type": "code",
   "execution_count": 34,
   "metadata": {},
   "outputs": [],
   "source": [
    "# create the dummy variable for the Embarked\n",
    "dummies=pd.get_dummies(titanic.Embarked)\n",
    "merged=pd.concat([titanic,dummies],axis=\"columns\")\n",
    "titanic_new1=merged.drop([\"Embarked\",\"C\"],axis=1)\n"
   ]
  },
  {
   "cell_type": "code",
   "execution_count": 35,
   "metadata": {},
   "outputs": [],
   "source": [
    "#create the dummy variable for the titles\n",
    "dummies=pd.get_dummies(titanic.title)\n",
    "merged=pd.concat([titanic_new1,dummies],axis=\"columns\")\n",
    "titanic_new=merged.drop([\"title\"],axis=1)"
   ]
  },
  {
   "cell_type": "code",
   "execution_count": 36,
   "metadata": {},
   "outputs": [],
   "source": [
    "#creating x and y\n",
    "x=titanic_new.drop([\"Survived\"],axis=1)\n",
    "y=titanic_new[\"Survived\"]\n"
   ]
  },
  {
   "cell_type": "markdown",
   "metadata": {},
   "source": [
    "# To select the best parameter for the model using GridSearchCV\n",
    "\n",
    "## paramter for KNN"
   ]
  },
  {
   "cell_type": "code",
   "execution_count": 37,
   "metadata": {},
   "outputs": [],
   "source": [
    "#import the module\n",
    "from  sklearn.model_selection import GridSearchCV\n",
    "from sklearn.neighbors import KNeighborsClassifier\n",
    "knn=KNeighborsClassifier()"
   ]
  },
  {
   "cell_type": "code",
   "execution_count": 38,
   "metadata": {},
   "outputs": [
    {
     "data": {
      "text/plain": [
       "range(1, 31)"
      ]
     },
     "execution_count": 38,
     "metadata": {},
     "output_type": "execute_result"
    }
   ],
   "source": [
    "# define the parameter value that should be searched\n",
    "k_range = range(1,31)\n",
    "k_range"
   ]
  },
  {
   "cell_type": "code",
   "execution_count": 39,
   "metadata": {},
   "outputs": [
    {
     "name": "stdout",
     "output_type": "stream",
     "text": [
      "{'n_neighbors': range(1, 31)}\n"
     ]
    }
   ],
   "source": [
    "# create the parameter grid:map the paramter names to the values that should be rearched\n",
    "param_grid=dict(n_neighbors=k_range)\n",
    "print(param_grid)"
   ]
  },
  {
   "cell_type": "code",
   "execution_count": 40,
   "metadata": {},
   "outputs": [],
   "source": [
    "# instantive yhe grid\n",
    "grid=GridSearchCV(knn,param_grid,cv=10,scoring=\"accuracy\")"
   ]
  },
  {
   "cell_type": "code",
   "execution_count": 41,
   "metadata": {},
   "outputs": [
    {
     "data": {
      "text/plain": [
       "GridSearchCV(cv=10, error_score='raise',\n",
       "       estimator=KNeighborsClassifier(algorithm='auto', leaf_size=30, metric='minkowski',\n",
       "           metric_params=None, n_jobs=1, n_neighbors=5, p=2,\n",
       "           weights='uniform'),\n",
       "       fit_params=None, iid=True, n_jobs=1,\n",
       "       param_grid={'n_neighbors': range(1, 31)}, pre_dispatch='2*n_jobs',\n",
       "       refit=True, return_train_score=True, scoring='accuracy', verbose=0)"
      ]
     },
     "execution_count": 41,
     "metadata": {},
     "output_type": "execute_result"
    }
   ],
   "source": [
    "# fit the grid with data\n",
    "grid.fit(x,y)"
   ]
  },
  {
   "cell_type": "code",
   "execution_count": 42,
   "metadata": {},
   "outputs": [
    {
     "data": {
      "text/plain": [
       "{'mean_fit_time': array([ 0.01064396,  0.0080399 ,  0.00828307,  0.00632458,  0.01087465,\n",
       "         0.00871985,  0.00891588,  0.01044335,  0.0097111 ,  0.00752857,\n",
       "         0.00861061,  0.00822685,  0.0090502 ,  0.00878928,  0.00921485,\n",
       "         0.00928617,  0.00988157,  0.01020408,  0.00955164,  0.00774634,\n",
       "         0.00977037,  0.00996912,  0.00851533,  0.00887599,  0.00771542,\n",
       "         0.00872879,  0.01221263,  0.00860412,  0.0076124 ,  0.00801399]),\n",
       " 'std_fit_time': array([ 0.00445554,  0.00307993,  0.00450859,  0.00121631,  0.00639613,\n",
       "         0.00260549,  0.00404753,  0.00485015,  0.00347247,  0.00271774,\n",
       "         0.00433714,  0.00340498,  0.00248411,  0.00465012,  0.00445546,\n",
       "         0.00341444,  0.00441442,  0.00524916,  0.0029095 ,  0.00337658,\n",
       "         0.00295746,  0.00398973,  0.00234359,  0.00246623,  0.00323694,\n",
       "         0.00297914,  0.00519601,  0.00493066,  0.00273932,  0.00271028]),\n",
       " 'mean_score_time': array([ 0.00553575,  0.00882776,  0.00627565,  0.00501266,  0.00485961,\n",
       "         0.00574353,  0.00542302,  0.00632532,  0.00566571,  0.00648291,\n",
       "         0.00632079,  0.00731051,  0.00678596,  0.00648203,  0.00632024,\n",
       "         0.00723753,  0.00660651,  0.00886095,  0.00685656,  0.00711889,\n",
       "         0.00636821,  0.00921888,  0.00720444,  0.00764949,  0.01079969,\n",
       "         0.00968201,  0.00867577,  0.00756843,  0.00691221,  0.00776496]),\n",
       " 'std_score_time': array([ 0.00223486,  0.00900889,  0.00215844,  0.00218097,  0.00177017,\n",
       "         0.0024437 ,  0.00215212,  0.00272814,  0.00251107,  0.00326085,\n",
       "         0.00233597,  0.00222117,  0.00141948,  0.00294474,  0.00305345,\n",
       "         0.0031146 ,  0.00350751,  0.00757664,  0.00218233,  0.00187278,\n",
       "         0.00262414,  0.003948  ,  0.00260284,  0.00169376,  0.00467778,\n",
       "         0.00392544,  0.00324454,  0.00571655,  0.00294943,  0.00301767]),\n",
       " 'param_n_neighbors': masked_array(data = [1 2 3 4 5 6 7 8 9 10 11 12 13 14 15 16 17 18 19 20 21 22 23 24 25 26 27 28\n",
       "  29 30],\n",
       "              mask = [False False False False False False False False False False False False\n",
       "  False False False False False False False False False False False False\n",
       "  False False False False False False],\n",
       "        fill_value = ?),\n",
       " 'params': [{'n_neighbors': 1},\n",
       "  {'n_neighbors': 2},\n",
       "  {'n_neighbors': 3},\n",
       "  {'n_neighbors': 4},\n",
       "  {'n_neighbors': 5},\n",
       "  {'n_neighbors': 6},\n",
       "  {'n_neighbors': 7},\n",
       "  {'n_neighbors': 8},\n",
       "  {'n_neighbors': 9},\n",
       "  {'n_neighbors': 10},\n",
       "  {'n_neighbors': 11},\n",
       "  {'n_neighbors': 12},\n",
       "  {'n_neighbors': 13},\n",
       "  {'n_neighbors': 14},\n",
       "  {'n_neighbors': 15},\n",
       "  {'n_neighbors': 16},\n",
       "  {'n_neighbors': 17},\n",
       "  {'n_neighbors': 18},\n",
       "  {'n_neighbors': 19},\n",
       "  {'n_neighbors': 20},\n",
       "  {'n_neighbors': 21},\n",
       "  {'n_neighbors': 22},\n",
       "  {'n_neighbors': 23},\n",
       "  {'n_neighbors': 24},\n",
       "  {'n_neighbors': 25},\n",
       "  {'n_neighbors': 26},\n",
       "  {'n_neighbors': 27},\n",
       "  {'n_neighbors': 28},\n",
       "  {'n_neighbors': 29},\n",
       "  {'n_neighbors': 30}],\n",
       " 'split0_test_score': array([ 0.66666667,  0.7       ,  0.68888889,  0.71111111,  0.66666667,\n",
       "         0.65555556,  0.64444444,  0.65555556,  0.63333333,  0.64444444,\n",
       "         0.65555556,  0.63333333,  0.63333333,  0.62222222,  0.6       ,\n",
       "         0.64444444,  0.64444444,  0.63333333,  0.65555556,  0.6       ,\n",
       "         0.6       ,  0.6       ,  0.6       ,  0.56666667,  0.58888889,\n",
       "         0.58888889,  0.58888889,  0.6       ,  0.58888889,  0.58888889]),\n",
       " 'split1_test_score': array([ 0.65555556,  0.67777778,  0.68888889,  0.67777778,  0.68888889,\n",
       "         0.68888889,  0.67777778,  0.62222222,  0.63333333,  0.62222222,\n",
       "         0.64444444,  0.62222222,  0.64444444,  0.63333333,  0.64444444,\n",
       "         0.61111111,  0.62222222,  0.62222222,  0.64444444,  0.61111111,\n",
       "         0.64444444,  0.63333333,  0.66666667,  0.64444444,  0.65555556,\n",
       "         0.62222222,  0.62222222,  0.62222222,  0.62222222,  0.63333333]),\n",
       " 'split2_test_score': array([ 0.70786517,  0.70786517,  0.71910112,  0.69662921,  0.70786517,\n",
       "         0.70786517,  0.66292135,  0.6741573 ,  0.66292135,  0.68539326,\n",
       "         0.68539326,  0.69662921,  0.6741573 ,  0.68539326,  0.69662921,\n",
       "         0.6741573 ,  0.68539326,  0.6741573 ,  0.6741573 ,  0.6741573 ,\n",
       "         0.6741573 ,  0.68539326,  0.65168539,  0.65168539,  0.65168539,\n",
       "         0.66292135,  0.64044944,  0.62921348,  0.65168539,  0.66292135]),\n",
       " 'split3_test_score': array([ 0.69662921,  0.76404494,  0.75280899,  0.74157303,  0.68539326,\n",
       "         0.70786517,  0.70786517,  0.74157303,  0.70786517,  0.70786517,\n",
       "         0.73033708,  0.73033708,  0.73033708,  0.78651685,  0.75280899,\n",
       "         0.80898876,  0.7752809 ,  0.80898876,  0.79775281,  0.80898876,\n",
       "         0.7752809 ,  0.78651685,  0.78651685,  0.78651685,  0.80898876,\n",
       "         0.80898876,  0.80898876,  0.78651685,  0.78651685,  0.7752809 ]),\n",
       " 'split4_test_score': array([ 0.71910112,  0.73033708,  0.76404494,  0.75280899,  0.73033708,\n",
       "         0.69662921,  0.69662921,  0.70786517,  0.71910112,  0.68539326,\n",
       "         0.6741573 ,  0.70786517,  0.69662921,  0.71910112,  0.74157303,\n",
       "         0.73033708,  0.73033708,  0.70786517,  0.70786517,  0.69662921,\n",
       "         0.69662921,  0.6741573 ,  0.66292135,  0.69662921,  0.66292135,\n",
       "         0.65168539,  0.65168539,  0.66292135,  0.66292135,  0.66292135]),\n",
       " 'split5_test_score': array([ 0.70786517,  0.70786517,  0.75280899,  0.66292135,  0.71910112,\n",
       "         0.69662921,  0.71910112,  0.69662921,  0.74157303,  0.71910112,\n",
       "         0.71910112,  0.70786517,  0.71910112,  0.71910112,  0.75280899,\n",
       "         0.74157303,  0.75280899,  0.75280899,  0.75280899,  0.71910112,\n",
       "         0.73033708,  0.73033708,  0.71910112,  0.71910112,  0.73033708,\n",
       "         0.70786517,  0.70786517,  0.70786517,  0.70786517,  0.68539326]),\n",
       " 'split6_test_score': array([ 0.74157303,  0.74157303,  0.75280899,  0.73033708,  0.74157303,\n",
       "         0.70786517,  0.71910112,  0.70786517,  0.74157303,  0.70786517,\n",
       "         0.74157303,  0.70786517,  0.75280899,  0.70786517,  0.74157303,\n",
       "         0.71910112,  0.73033708,  0.73033708,  0.74157303,  0.71910112,\n",
       "         0.75280899,  0.74157303,  0.75280899,  0.73033708,  0.73033708,\n",
       "         0.73033708,  0.73033708,  0.74157303,  0.74157303,  0.71910112]),\n",
       " 'split7_test_score': array([ 0.70786517,  0.73033708,  0.74157303,  0.69662921,  0.69662921,\n",
       "         0.6741573 ,  0.70786517,  0.68539326,  0.74157303,  0.7752809 ,\n",
       "         0.75280899,  0.75280899,  0.76404494,  0.74157303,  0.71910112,\n",
       "         0.71910112,  0.73033708,  0.74157303,  0.73033708,  0.74157303,\n",
       "         0.73033708,  0.75280899,  0.76404494,  0.74157303,  0.76404494,\n",
       "         0.75280899,  0.74157303,  0.74157303,  0.70786517,  0.73033708]),\n",
       " 'split8_test_score': array([ 0.68539326,  0.66292135,  0.65168539,  0.70786517,  0.69662921,\n",
       "         0.70786517,  0.75280899,  0.71910112,  0.76404494,  0.7752809 ,\n",
       "         0.7752809 ,  0.73033708,  0.75280899,  0.75280899,  0.74157303,\n",
       "         0.76404494,  0.76404494,  0.76404494,  0.74157303,  0.76404494,\n",
       "         0.74157303,  0.75280899,  0.76404494,  0.76404494,  0.75280899,\n",
       "         0.74157303,  0.74157303,  0.74157303,  0.74157303,  0.74157303]),\n",
       " 'split9_test_score': array([ 0.76136364,  0.75      ,  0.75      ,  0.77272727,  0.78409091,\n",
       "         0.72727273,  0.76136364,  0.76136364,  0.77272727,  0.72727273,\n",
       "         0.75      ,  0.71590909,  0.76136364,  0.76136364,  0.77272727,\n",
       "         0.75      ,  0.77272727,  0.72727273,  0.73863636,  0.75      ,\n",
       "         0.75      ,  0.72727273,  0.76136364,  0.75      ,  0.72727273,\n",
       "         0.73863636,  0.75      ,  0.72727273,  0.70454545,  0.72727273]),\n",
       " 'mean_test_score': array([ 0.70482604,  0.71717172,  0.72615039,  0.71492705,  0.71156004,\n",
       "         0.6969697 ,  0.70482604,  0.6969697 ,  0.71156004,  0.70482604,\n",
       "         0.71268238,  0.7003367 ,  0.71268238,  0.71268238,  0.71604938,\n",
       "         0.71604938,  0.72053872,  0.71604938,  0.71829405,  0.70819304,\n",
       "         0.70931538,  0.70819304,  0.71268238,  0.70482604,  0.70707071,\n",
       "         0.7003367 ,  0.69809203,  0.69584736,  0.69135802,  0.69248036]),\n",
       " 'std_test_score': array([ 0.03017343,  0.03029567,  0.03571659,  0.0324167 ,  0.03194121,\n",
       "         0.01923465,  0.03482137,  0.03852129,  0.04893065,  0.04686765,\n",
       "         0.04279067,  0.03958492,  0.04620409,  0.05069813,  0.05195477,\n",
       "         0.05567404,  0.05074283,  0.05557087,  0.04546643,  0.06243077,\n",
       "         0.0524499 ,  0.05588174,  0.05988327,  0.06343363,  0.06244351,\n",
       "         0.06412285,  0.06571655,  0.05989136,  0.05710736,  0.05362793]),\n",
       " 'rank_test_score': array([19,  4,  1,  8, 13, 26, 19, 26, 13, 19,  9, 23,  9,  9,  5,  5,  2,\n",
       "         5,  3, 16, 15, 16,  9, 19, 18, 23, 25, 28, 30, 29]),\n",
       " 'split0_train_score': array([ 0.98377029,  0.84519351,  0.84893883,  0.80649189,  0.82022472,\n",
       "         0.79151061,  0.78651685,  0.78277154,  0.78901373,  0.77403246,\n",
       "         0.77777778,  0.77153558,  0.76404494,  0.75405743,  0.75280899,\n",
       "         0.74906367,  0.74157303,  0.74656679,  0.75031211,  0.74406991,\n",
       "         0.74157303,  0.73782772,  0.73533084,  0.73033708,  0.74032459,\n",
       "         0.73782772,  0.74157303,  0.7340824 ,  0.74032459,  0.7340824 ]),\n",
       " 'split1_train_score': array([ 0.98002497,  0.84019975,  0.84893883,  0.82646692,  0.81897628,\n",
       "         0.78277154,  0.78277154,  0.77153558,  0.76654182,  0.7627965 ,\n",
       "         0.76779026,  0.76404494,  0.76529338,  0.75780275,  0.75655431,\n",
       "         0.75156055,  0.75156055,  0.75031211,  0.74781523,  0.74406991,\n",
       "         0.74406991,  0.74406991,  0.74781523,  0.74157303,  0.73782772,\n",
       "         0.73033708,  0.73283396,  0.72284644,  0.73033708,  0.71785268]),\n",
       " 'split2_train_score': array([ 0.98877805,  0.8553616 ,  0.84663342,  0.81421446,  0.81047382,\n",
       "         0.78802993,  0.78304239,  0.76683292,  0.77680798,  0.75935162,\n",
       "         0.76558603,  0.75810474,  0.75062344,  0.74189526,  0.75062344,\n",
       "         0.74189526,  0.74314214,  0.75685786,  0.75436409,  0.75311721,\n",
       "         0.75311721,  0.75311721,  0.74563591,  0.74064838,  0.74438903,\n",
       "         0.74314214,  0.75062344,  0.73316708,  0.73566085,  0.73316708]),\n",
       " 'split3_train_score': array([ 0.97506234,  0.84912718,  0.83915212,  0.8042394 ,  0.80299252,\n",
       "         0.78304239,  0.78179551,  0.76932668,  0.76683292,  0.75810474,\n",
       "         0.75685786,  0.75311721,  0.74937656,  0.7394015 ,  0.74563591,\n",
       "         0.73566085,  0.73441397,  0.72319202,  0.72319202,  0.72942643,\n",
       "         0.73067332,  0.72817955,  0.7394015 ,  0.72817955,  0.73441397,\n",
       "         0.72194514,  0.72817955,  0.70947631,  0.71446384,  0.71197007]),\n",
       " 'split4_train_score': array([ 0.98503741,  0.840399  ,  0.83790524,  0.80922693,  0.81047382,\n",
       "         0.78553616,  0.77431421,  0.77057357,  0.78179551,  0.76184539,\n",
       "         0.7680798 ,  0.75810474,  0.75935162,  0.75436409,  0.75187032,\n",
       "         0.74314214,  0.74937656,  0.74189526,  0.74314214,  0.74064838,\n",
       "         0.74438903,  0.72942643,  0.73815461,  0.73690773,  0.7394015 ,\n",
       "         0.73441397,  0.74314214,  0.7319202 ,  0.7394015 ,  0.73566085]),\n",
       " 'split5_train_score': array([ 0.97630923,  0.84413965,  0.8478803 ,  0.81795511,  0.81296758,\n",
       "         0.78428928,  0.7755611 ,  0.77431421,  0.77306733,  0.7605985 ,\n",
       "         0.76558603,  0.75436409,  0.74688279,  0.74064838,  0.74064838,\n",
       "         0.73067332,  0.74064838,  0.72942643,  0.7319202 ,  0.7319202 ,\n",
       "         0.73690773,  0.73815461,  0.73566085,  0.73441397,  0.74563591,\n",
       "         0.72817955,  0.73067332,  0.7244389 ,  0.72194514,  0.70947631]),\n",
       " 'split6_train_score': array([ 0.98379052,  0.83915212,  0.84164589,  0.8117207 ,  0.7967581 ,\n",
       "         0.7755611 ,  0.77930175,  0.76683292,  0.77306733,  0.76683292,\n",
       "         0.77182045,  0.76184539,  0.75561097,  0.74688279,  0.75935162,\n",
       "         0.74563591,  0.74064838,  0.7319202 ,  0.72693267,  0.72817955,\n",
       "         0.73815461,  0.73316708,  0.73815461,  0.73441397,  0.73690773,\n",
       "         0.72693267,  0.73815461,  0.71321696,  0.71820449,  0.70947631]),\n",
       " 'split7_train_score': array([ 0.97381546,  0.83416459,  0.84289277,  0.80673317,  0.80548628,\n",
       "         0.78304239,  0.76932668,  0.7680798 ,  0.77057357,  0.76433915,\n",
       "         0.76184539,  0.75810474,  0.76309227,  0.74812968,  0.74688279,\n",
       "         0.73815461,  0.74064838,  0.73441397,  0.73566085,  0.73815461,\n",
       "         0.74064838,  0.73690773,  0.74189526,  0.72693267,  0.74688279,\n",
       "         0.72069825,  0.72693267,  0.70822943,  0.70947631,  0.70947631]),\n",
       " 'split8_train_score': array([ 0.97755611,  0.83665835,  0.85037406,  0.82169576,  0.80673317,\n",
       "         0.78553616,  0.77431421,  0.77306733,  0.77306733,  0.75436409,\n",
       "         0.76309227,  0.74563591,  0.74937656,  0.74937656,  0.74438903,\n",
       "         0.73441397,  0.74064838,  0.73566085,  0.7394015 ,  0.7394015 ,\n",
       "         0.72817955,  0.7319202 ,  0.7319202 ,  0.72693267,  0.72817955,\n",
       "         0.72069825,  0.7244389 ,  0.71695761,  0.71945137,  0.71695761]),\n",
       " 'split9_train_score': array([ 0.98381071,  0.84184309,  0.84184309,  0.80821918,  0.80572852,\n",
       "         0.78704857,  0.77708593,  0.76214197,  0.77210461,  0.75342466,\n",
       "         0.75840598,  0.75217933,  0.75342466,  0.74595268,  0.74470735,\n",
       "         0.73599004,  0.74346202,  0.73349938,  0.7384807 ,  0.73349938,\n",
       "         0.73100872,  0.73349938,  0.7384807 ,  0.73225405,  0.73225405,\n",
       "         0.72976339,  0.73972603,  0.71731009,  0.71232877,  0.71855542]),\n",
       " 'mean_train_score': array([ 0.98079551,  0.84262388,  0.84462045,  0.81269635,  0.80908148,\n",
       "         0.78463681,  0.77840302,  0.77054765,  0.77428721,  0.761569  ,\n",
       "         0.76568418,  0.75770367,  0.75570772,  0.74785111,  0.74934721,\n",
       "         0.74061903,  0.74261218,  0.73837449,  0.73912215,  0.73824871,\n",
       "         0.73887215,  0.73662698,  0.73924497,  0.73325931,  0.73862168,\n",
       "         0.72939382,  0.73562777,  0.72116454,  0.72415939,  0.7196675 ]),\n",
       " 'std_train_score': array([ 0.00470563,  0.00586583,  0.00423819,  0.00692233,  0.00677998,\n",
       "         0.00396547,  0.00494355,  0.0052609 ,  0.00646665,  0.00573066,\n",
       "         0.00588586,  0.00676393,  0.00646778,  0.00587934,  0.00560034,\n",
       "         0.00643193,  0.00458857,  0.00981173,  0.00957054,  0.00733327,\n",
       "         0.00720128,  0.00705898,  0.00454007,  0.00505075,  0.00570152,\n",
       "         0.00707542,  0.00792771,  0.00916416,  0.01084515,  0.0101416 ])}"
      ]
     },
     "execution_count": 42,
     "metadata": {},
     "output_type": "execute_result"
    }
   ],
   "source": [
    "#view the complete result \n",
    "grid.cv_results_"
   ]
  },
  {
   "cell_type": "code",
   "execution_count": 43,
   "metadata": {},
   "outputs": [
    {
     "name": "stdout",
     "output_type": "stream",
     "text": [
      "0.726150392817\n",
      "{'n_neighbors': 3}\n",
      "KNeighborsClassifier(algorithm='auto', leaf_size=30, metric='minkowski',\n",
      "           metric_params=None, n_jobs=1, n_neighbors=3, p=2,\n",
      "           weights='uniform')\n"
     ]
    }
   ],
   "source": [
    "#examine the best model`\n",
    "print(grid.best_score_)\n",
    "print(grid.best_params_)\n",
    "print(grid.best_estimator_)\n",
    "n_neg=grid.best_params_"
   ]
  },
  {
   "cell_type": "markdown",
   "metadata": {},
   "source": [
    " Hence we get the information that best score is when the n_neighbors is 3 therefore we gonna use 3 as parameter for KNN"
   ]
  },
  {
   "cell_type": "markdown",
   "metadata": {},
   "source": [
    "## Paramter for decison tree"
   ]
  },
  {
   "cell_type": "markdown",
   "metadata": {},
   "source": [
    "# To select the best model using Cross- validation"
   ]
  },
  {
   "cell_type": "code",
   "execution_count": 44,
   "metadata": {},
   "outputs": [],
   "source": [
    "#import moduel\n",
    "from sklearn.model_selection import cross_val_score\n",
    "from sklearn.linear_model import LogisticRegression"
   ]
  },
  {
   "cell_type": "code",
   "execution_count": 45,
   "metadata": {},
   "outputs": [
    {
     "name": "stdout",
     "output_type": "stream",
     "text": [
      "0.726260923845\n"
     ]
    }
   ],
   "source": [
    "# 10 fold cross validation with best knn model\n",
    "knn= KNeighborsClassifier(n_neighbors=)\n",
    "print(cross_val_score(knn,x,y,cv=10,scoring=\"accuracy\").mean())"
   ]
  },
  {
   "cell_type": "code",
   "execution_count": 53,
   "metadata": {},
   "outputs": [
    {
     "name": "stdout",
     "output_type": "stream",
     "text": [
      "0.827367361517\n"
     ]
    }
   ],
   "source": [
    "# 10 fold cross validation with logistic regression\n",
    "logreg=LogisticRegression()\n",
    "print (cross_val_score(logreg,x,y,cv=15,scoring=\"accuracy\").mean())"
   ]
  },
  {
   "cell_type": "code",
   "execution_count": 47,
   "metadata": {},
   "outputs": [
    {
     "name": "stdout",
     "output_type": "stream",
     "text": [
      "0.77899670866\n"
     ]
    }
   ],
   "source": [
    "# 10 fold cross validation with random forest\n",
    "from sklearn.tree import DecisionTreeClassifier\n",
    "print(cross_val_score(DecisionTreeClassifier(),x,y,cv=10,scoring=\"accuracy\").mean())"
   ]
  }
 ],
 "metadata": {
  "kernelspec": {
   "display_name": "Python 3",
   "language": "python",
   "name": "python3"
  },
  "language_info": {
   "codemirror_mode": {
    "name": "ipython",
    "version": 3
   },
   "file_extension": ".py",
   "mimetype": "text/x-python",
   "name": "python",
   "nbconvert_exporter": "python",
   "pygments_lexer": "ipython3",
   "version": "3.6.8"
  }
 },
 "nbformat": 4,
 "nbformat_minor": 2
}
